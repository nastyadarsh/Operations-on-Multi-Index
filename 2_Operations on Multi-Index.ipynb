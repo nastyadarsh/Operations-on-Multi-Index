{
 "cells": [
  {
   "cell_type": "markdown",
   "id": "4b54b397-a9b2-4c80-a2fe-aee4fba32efb",
   "metadata": {},
   "source": [
    "## Here we use numpy and pandas for multi-index operations"
   ]
  },
  {
   "cell_type": "code",
   "execution_count": 7,
   "id": "dcaf67e8-fa74-4cfa-8fce-f82c8691a363",
   "metadata": {},
   "outputs": [
    {
     "name": "stdout",
     "output_type": "stream",
     "text": [
      "Multi-Index DataFrame:\n",
      "               Sales  Profit\n",
      "Category Year               \n",
      "A        2020    100      20\n",
      "         2021    150      30\n",
      "B        2020    200      40\n",
      "         2021    250      50\n",
      "C        2020    300      60\n",
      "         2021    350      70\n"
     ]
    }
   ],
   "source": [
    "import pandas as pd\n",
    "import numpy as np\n",
    "\n",
    "# Create a MultiIndex\n",
    "index = pd.MultiIndex.from_tuples(\n",
    "    [('A', 2020), ('A', 2021), ('B', 2020), ('B', 2021), ('C', 2020), ('C', 2021)],\n",
    "    names=['Category', 'Year']\n",
    ")\n",
    "\n",
    "# Create the DataFrame\n",
    "data = {\n",
    "    'Sales': [100, 150, 200, 250, 300, 350],\n",
    "    'Profit': [20, 30, 40, 50, 60, 70]\n",
    "}\n",
    "df = pd.DataFrame(data, index=index)\n",
    "\n",
    "print(\"Multi-Index DataFrame:\")\n",
    "print(df)\n"
   ]
  },
  {
   "cell_type": "markdown",
   "id": "44a86fac-67da-4125-8fb5-aded499655e1",
   "metadata": {},
   "source": [
    "## Here we are perfoming some multi index level operations"
   ]
  },
  {
   "cell_type": "markdown",
   "id": "c2ce711c-cf15-4ec0-920e-ff064abc71ee",
   "metadata": {},
   "source": [
    "#1. Selecting Data from a Specific Level"
   ]
  },
  {
   "cell_type": "code",
   "execution_count": 8,
   "id": "12eb1a1e-e4b3-4022-aa1b-b50a0561c202",
   "metadata": {},
   "outputs": [
    {
     "name": "stdout",
     "output_type": "stream",
     "text": [
      "Data for Category A:\n",
      "      Sales  Profit\n",
      "Year               \n",
      "2020    100      20\n",
      "2021    150      30\n"
     ]
    }
   ],
   "source": [
    "# from catgory 'A'\n",
    "category_a = df.loc['A']\n",
    "print(\"Data for Category A:\")\n",
    "print(category_a)\n"
   ]
  },
  {
   "cell_type": "code",
   "execution_count": 9,
   "id": "2edbfcdb-d724-45a6-9771-207d501be9c6",
   "metadata": {},
   "outputs": [
    {
     "name": "stdout",
     "output_type": "stream",
     "text": [
      "Data for Category B:\n",
      "      Sales  Profit\n",
      "Year               \n",
      "2020    200      40\n",
      "2021    250      50\n"
     ]
    }
   ],
   "source": [
    "# from catgory 'B'\n",
    "category_b = df.loc['B']\n",
    "print(\"Data for Category B:\")\n",
    "print(category_b)\n",
    "\n",
    "\n"
   ]
  },
  {
   "cell_type": "code",
   "execution_count": 10,
   "id": "c3c59d3b-9445-4f49-8e0d-1d94d9941bfd",
   "metadata": {},
   "outputs": [
    {
     "name": "stdout",
     "output_type": "stream",
     "text": [
      "Data for Category C:\n",
      "      Sales  Profit\n",
      "Year               \n",
      "2020    300      60\n",
      "2021    350      70\n"
     ]
    }
   ],
   "source": [
    "# from catgory 'c'\n",
    "category_c = df.loc['C']\n",
    "print(\"Data for Category C:\")\n",
    "print(category_c)\n",
    "\n"
   ]
  },
  {
   "cell_type": "code",
   "execution_count": null,
   "id": "f7c64d76-ac8a-450f-bd42-f87b1abac1ac",
   "metadata": {},
   "outputs": [],
   "source": []
  },
  {
   "cell_type": "markdown",
   "id": "a4debed8-d54b-4129-ac0c-f4e5f107dadc",
   "metadata": {},
   "source": [
    "#3. Swapping and Sorting Levels"
   ]
  },
  {
   "cell_type": "code",
   "execution_count": 16,
   "id": "14e4f900-c03a-4ca1-baf4-56dad2a7a37d",
   "metadata": {},
   "outputs": [
    {
     "name": "stdout",
     "output_type": "stream",
     "text": [
      "Swapped and Sorted DataFrame:\n",
      "******************************\n",
      "               Sales  Profit\n",
      "Year Category               \n",
      "2020 A           100      20\n",
      "     B           200      40\n",
      "     C           300      60\n",
      "2021 A           150      30\n",
      "     B           250      50\n",
      "     C           350      70\n"
     ]
    }
   ],
   "source": [
    "# Swap levels of the MultiIndex\n",
    "swapp= df.swaplevel('Category', 'Year')\n",
    "sorted_df = swapp.sort_index()\n",
    "print(\"Swapped and Sorted DataFrame:\")\n",
    "print('*'*30)\n",
    "print(sorted_df)\n"
   ]
  },
  {
   "cell_type": "code",
   "execution_count": null,
   "id": "94db7bc9-066e-4cac-9cab-9791e53bb51d",
   "metadata": {},
   "outputs": [],
   "source": []
  },
  {
   "cell_type": "markdown",
   "id": "f42058da-fc4c-4ba8-b06a-373d4e2a5142",
   "metadata": {},
   "source": [
    "#3. Grouping by a Level"
   ]
  },
  {
   "cell_type": "code",
   "execution_count": 18,
   "id": "bf1cd292-6d14-45a3-8649-8b6627356da0",
   "metadata": {},
   "outputs": [
    {
     "name": "stdout",
     "output_type": "stream",
     "text": [
      "Mean by Category:\n",
      "******************************\n",
      "          Sales  Profit\n",
      "Category               \n",
      "A         125.0    25.0\n",
      "B         225.0    45.0\n",
      "C         325.0    65.0\n"
     ]
    }
   ],
   "source": [
    "# Group by 'Category' and calculate mean\n",
    "grouped_mean = df.groupby(level='Category').mean()\n",
    "print(\"Mean by Category:\")\n",
    "print('*'*30)\n",
    "\n",
    "print(grouped_mean)\n"
   ]
  },
  {
   "cell_type": "code",
   "execution_count": null,
   "id": "8e382f4f-6e27-43c4-9fee-c5b6f01c0e2a",
   "metadata": {},
   "outputs": [],
   "source": []
  }
 ],
 "metadata": {
  "kernelspec": {
   "display_name": "Python 3 (ipykernel)",
   "language": "python",
   "name": "python3"
  },
  "language_info": {
   "codemirror_mode": {
    "name": "ipython",
    "version": 3
   },
   "file_extension": ".py",
   "mimetype": "text/x-python",
   "name": "python",
   "nbconvert_exporter": "python",
   "pygments_lexer": "ipython3",
   "version": "3.13.0"
  }
 },
 "nbformat": 4,
 "nbformat_minor": 5
}
